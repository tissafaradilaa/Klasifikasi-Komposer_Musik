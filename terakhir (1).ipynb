{
 "cells": [
  {
   "cell_type": "code",
   "execution_count": 56,
   "metadata": {},
   "outputs": [],
   "source": [
    "import os\n",
    "import pretty_midi\n",
    "import numpy as np\n",
    "from music21 import converter, note, chord\n",
    "from sklearn.preprocessing import LabelEncoder, StandardScaler\n",
    "from sklearn.model_selection import train_test_split\n",
    "from sklearn.ensemble import RandomForestClassifier\n",
    "from sklearn.neighbors import KNeighborsClassifier\n",
    "from sklearn.metrics import accuracy_score, classification_report, confusion_matrix"
   ]
  },
  {
   "cell_type": "code",
   "execution_count": 57,
   "metadata": {},
   "outputs": [],
   "source": [
    "# Fungsi untuk ekstraksi fitur MIDI\n",
    "def extract_midi_features(filepath):\n",
    "    try:\n",
    "        midi_data = pretty_midi.PrettyMIDI(filepath)\n",
    "\n",
    "        # Distribusi pitch\n",
    "        pitches = [note.pitch for instrument in midi_data.instruments for note in instrument.notes]\n",
    "        pitch_mean = np.mean(pitches) if pitches else 0\n",
    "        pitch_std = np.std(pitches) if pitches else 0\n",
    "\n",
    "        # Durasi total\n",
    "        total_duration = midi_data.get_end_time()\n",
    "\n",
    "        # Jumlah instrumen\n",
    "        num_instruments = len(midi_data.instruments)\n",
    "\n",
    "        # Variasi tempo\n",
    "        tempos = midi_data.get_tempo_changes()[1]\n",
    "        tempo_mean = np.mean(tempos) if len(tempos) > 0 else 120  # Default ke 120 BPM\n",
    "        tempo_std = np.std(tempos) if len(tempos) > 0 else 0\n",
    "\n",
    "        return [pitch_mean, pitch_std, total_duration, num_instruments, tempo_mean, tempo_std]\n",
    "\n",
    "    except Exception as e:\n",
    "        print(f\"Error dalam memproses {filepath}: {e}\")\n",
    "        return [0, 0, 0, 0, 0, 0]\n"
   ]
  },
  {
   "cell_type": "code",
   "execution_count": 58,
   "metadata": {},
   "outputs": [
    {
     "name": "stdout",
     "output_type": "stream",
     "text": [
      "Ekstraksi dataset selesai.\n"
     ]
    }
   ],
   "source": [
    "# Direktori dataset\n",
    "folder_path = \"C:/Users/Public/finalproject/songs\"\n",
    "\n",
    "all_features = []\n",
    "all_labels = []\n",
    "\n",
    "# Loop untuk mengekstrak fitur MIDI dari setiap komposer\n",
    "for composer in ['beeth', 'mozart', 'chopin', 'schubert']:\n",
    "    composer_folder = os.path.join(folder_path, composer)\n",
    "    if os.path.exists(composer_folder):\n",
    "        for file_name in os.listdir(composer_folder):\n",
    "            if file_name.endswith('.mid') or file_name.endswith('.midi'):\n",
    "                file_path = os.path.join(composer_folder, file_name)\n",
    "\n",
    "                # Ekstraksi fitur dari file MIDI\n",
    "                features = extract_midi_features(file_path)\n",
    "                if features and any(features): \n",
    "                    all_features.append(features)\n",
    "                    all_labels.append(composer.capitalize())\n",
    "                else:\n",
    "                    print(f\"Fitur tidak valid untuk file: {file_name}\")\n",
    "\n",
    "print(\"Ekstraksi dataset selesai.\")"
   ]
  },
  {
   "cell_type": "code",
   "execution_count": 59,
   "metadata": {},
   "outputs": [],
   "source": [
    "# Encode label komposer\n",
    "encoder = LabelEncoder()\n",
    "encoded_labels = encoder.fit_transform(all_labels)"
   ]
  },
  {
   "cell_type": "code",
   "execution_count": 60,
   "metadata": {},
   "outputs": [],
   "source": [
    "# Standardisasi fitur\n",
    "if len(all_features) > 0:\n",
    "    scaler = StandardScaler()\n",
    "    X_scaled = scaler.fit_transform(np.array(all_features))\n",
    "else:\n",
    "    raise ValueError(\"all_features kosong! Periksa file MIDI atau fungsi ekstraksi.\")"
   ]
  },
  {
   "cell_type": "code",
   "execution_count": 61,
   "metadata": {},
   "outputs": [],
   "source": [
    "# Bagi dataset menjadi train-test split\n",
    "X_train, X_test, y_train, y_test = train_test_split(\n",
    "    X_scaled, encoded_labels, test_size=0.2, random_state=42, stratify=encoded_labels\n",
    ")"
   ]
  },
  {
   "cell_type": "code",
   "execution_count": 62,
   "metadata": {},
   "outputs": [
    {
     "name": "stdout",
     "output_type": "stream",
     "text": [
      "\n",
      "Evaluasi Model pada Testing Set: Random Forest\n",
      "Accuracy: 0.6153846153846154\n",
      "Classification Report:\n",
      "               precision    recall  f1-score   support\n",
      "\n",
      "       Beeth       0.50      0.50      0.50         6\n",
      "      Chopin       0.80      0.80      0.80        10\n",
      "      Mozart       0.75      0.75      0.75         4\n",
      "    Schubert       0.33      0.33      0.33         6\n",
      "\n",
      "    accuracy                           0.62        26\n",
      "   macro avg       0.60      0.60      0.60        26\n",
      "weighted avg       0.62      0.62      0.62        26\n",
      "\n"
     ]
    }
   ],
   "source": [
    "# Model 1: Random Forest\n",
    "rf_model = RandomForestClassifier(n_estimators=100, random_state=42)\n",
    "rf_model.fit(X_train, y_train)\n",
    "rf_y_pred = rf_model.predict(X_test)\n",
    "print(\"\\nEvaluasi Model pada Testing Set: Random Forest\")\n",
    "print(\"Accuracy:\", accuracy_score(y_test, rf_y_pred))\n",
    "print(\"Classification Report:\\n\", classification_report(y_test, rf_y_pred, target_names=encoder.classes_))"
   ]
  },
  {
   "cell_type": "code",
   "execution_count": 63,
   "metadata": {},
   "outputs": [
    {
     "name": "stdout",
     "output_type": "stream",
     "text": [
      "\n",
      "Evaluasi Model pada Training Set: Random Forest\n",
      "Accuracy: 1.0\n",
      "Classification Report:\n",
      "               precision    recall  f1-score   support\n",
      "\n",
      "       Beeth       1.00      1.00      1.00        23\n",
      "      Chopin       1.00      1.00      1.00        38\n",
      "      Mozart       1.00      1.00      1.00        16\n",
      "    Schubert       1.00      1.00      1.00        23\n",
      "\n",
      "    accuracy                           1.00       100\n",
      "   macro avg       1.00      1.00      1.00       100\n",
      "weighted avg       1.00      1.00      1.00       100\n",
      "\n"
     ]
    }
   ],
   "source": [
    "# Evaluasi model Random Forest pada training set\n",
    "rf_y_pred_train = rf_model.predict(X_train)\n",
    "print(\"\\nEvaluasi Model pada Training Set: Random Forest\")\n",
    "print(\"Accuracy:\", accuracy_score(y_train, rf_y_pred_train))\n",
    "print(\"Classification Report:\\n\", classification_report(y_train, rf_y_pred_train, target_names=encoder.classes_))"
   ]
  },
  {
   "cell_type": "code",
   "execution_count": 64,
   "metadata": {},
   "outputs": [
    {
     "name": "stdout",
     "output_type": "stream",
     "text": [
      "\n",
      "Evaluasi Model pada Testing Set: K-Nearest Neighbors\n",
      "Accuracy: 0.5384615384615384\n",
      "Classification Report:\n",
      "               precision    recall  f1-score   support\n",
      "\n",
      "       Beeth       0.50      0.67      0.57         6\n",
      "      Chopin       0.56      0.50      0.53        10\n",
      "      Mozart       0.67      0.50      0.57         4\n",
      "    Schubert       0.50      0.50      0.50         6\n",
      "\n",
      "    accuracy                           0.54        26\n",
      "   macro avg       0.56      0.54      0.54        26\n",
      "weighted avg       0.55      0.54      0.54        26\n",
      "\n"
     ]
    }
   ],
   "source": [
    "# Model 2: K-Nearest Neighbors\n",
    "knn_model = KNeighborsClassifier(n_neighbors=3)\n",
    "knn_model.fit(X_train, y_train)\n",
    "knn_y_pred = knn_model.predict(X_test)\n",
    "print(\"\\nEvaluasi Model pada Testing Set: K-Nearest Neighbors\")\n",
    "print(\"Accuracy:\", accuracy_score(y_test, knn_y_pred))\n",
    "print(\"Classification Report:\\n\", classification_report(y_test, knn_y_pred, target_names=encoder.classes_))"
   ]
  },
  {
   "cell_type": "code",
   "execution_count": 65,
   "metadata": {},
   "outputs": [
    {
     "name": "stdout",
     "output_type": "stream",
     "text": [
      "\n",
      "Evaluasi Model pada Training Set: K-Nearest Neighbors\n",
      "Accuracy: 0.73\n",
      "Classification Report:\n",
      "               precision    recall  f1-score   support\n",
      "\n",
      "       Beeth       0.58      0.65      0.61        23\n",
      "      Chopin       0.72      0.76      0.74        38\n",
      "      Mozart       1.00      0.94      0.97        16\n",
      "    Schubert       0.74      0.61      0.67        23\n",
      "\n",
      "    accuracy                           0.73       100\n",
      "   macro avg       0.76      0.74      0.75       100\n",
      "weighted avg       0.74      0.73      0.73       100\n",
      "\n"
     ]
    }
   ],
   "source": [
    "knn_y_pred_train = knn_model.predict(X_train)\n",
    "print(\"\\nEvaluasi Model pada Training Set: K-Nearest Neighbors\")\n",
    "print(\"Accuracy:\", accuracy_score(y_train, knn_y_pred_train))\n",
    "print(\"Classification Report:\\n\", classification_report(y_train, knn_y_pred_train, target_names=encoder.classes_))"
   ]
  },
  {
   "cell_type": "code",
   "execution_count": 66,
   "metadata": {},
   "outputs": [],
   "source": [
    "# Fungsi untuk memprediksi komposer berdasarkan file MIDI\n",
    "def predict_composer(midi_file, model, encoder, scaler):\n",
    "    # Ekstraksi fitur dari file MIDI\n",
    "    features = extract_midi_features(midi_file)\n",
    "\n",
    "    # Validasi jika fitur tidak valid\n",
    "    if not features or not any(features):\n",
    "        raise ValueError(f\"Fitur tidak valid untuk file: {midi_file}\")\n",
    "\n",
    "    # Standarisasi fitur\n",
    "    features_scaled = scaler.transform([features])\n",
    "\n",
    "    # Prediksi menggunakan model\n",
    "    predicted_label = model.predict(features_scaled)\n",
    "\n",
    "    # Mengembalikan hasil prediksi dalam nama komposer\n",
    "    predicted_composer = encoder.inverse_transform(predicted_label)\n",
    "    return predicted_composer[0]"
   ]
  },
  {
   "cell_type": "code",
   "execution_count": 67,
   "metadata": {},
   "outputs": [],
   "source": [
    "# Path ke file MIDI yang ingin diprediksi\n",
    "midi_file = \"C:/Users/Public/finalproject/songs/Losing True (Album Version).mid\" "
   ]
  },
  {
   "cell_type": "code",
   "execution_count": 68,
   "metadata": {},
   "outputs": [
    {
     "name": "stdout",
     "output_type": "stream",
     "text": [
      "Komposer yang diprediksi untuk C:/Users/Public/finalproject/songs/Losing True (Album Version).mid adalah: Chopin\n"
     ]
    }
   ],
   "source": [
    "# Prediksi komposer\n",
    "predicted_composer = predict_composer(midi_file, rf_model, encoder, scaler)\n",
    "print(f\"Komposer yang diprediksi untuk {midi_file} adalah: {predicted_composer}\")"
   ]
  },
  {
   "cell_type": "code",
   "execution_count": 69,
   "metadata": {},
   "outputs": [
    {
     "name": "stdout",
     "output_type": "stream",
     "text": [
      "\n",
      "Evaluasi Model: Random Forest\n",
      "Accuracy: 0.6153846153846154\n",
      "Classification Report:\n",
      "               precision    recall  f1-score   support\n",
      "\n",
      "       Beeth       0.50      0.50      0.50         6\n",
      "      Chopin       0.80      0.80      0.80        10\n",
      "      Mozart       0.75      0.75      0.75         4\n",
      "    Schubert       0.33      0.33      0.33         6\n",
      "\n",
      "    accuracy                           0.62        26\n",
      "   macro avg       0.60      0.60      0.60        26\n",
      "weighted avg       0.62      0.62      0.62        26\n",
      "\n",
      "Confusion Matrix:\n",
      " [[3 0 0 3]\n",
      " [1 8 0 1]\n",
      " [0 1 3 0]\n",
      " [2 1 1 2]]\n",
      "\n",
      "Evaluasi Model: K-Nearest Neighbors\n",
      "Accuracy: 0.5384615384615384\n",
      "Classification Report:\n",
      "               precision    recall  f1-score   support\n",
      "\n",
      "       Beeth       0.50      0.67      0.57         6\n",
      "      Chopin       0.56      0.50      0.53        10\n",
      "      Mozart       0.67      0.50      0.57         4\n",
      "    Schubert       0.50      0.50      0.50         6\n",
      "\n",
      "    accuracy                           0.54        26\n",
      "   macro avg       0.56      0.54      0.54        26\n",
      "weighted avg       0.55      0.54      0.54        26\n",
      "\n",
      "Confusion Matrix:\n",
      " [[4 1 0 1]\n",
      " [3 5 0 2]\n",
      " [0 2 2 0]\n",
      " [1 1 1 3]]\n",
      "Komposer yang diprediksi untuk C:/Users/Public/finalproject/songs/Losing True (Album Version).mid adalah: Chopin\n"
     ]
    }
   ],
   "source": [
    "# Evaluasi model Random Forest pada test set\n",
    "rf_y_pred = rf_model.predict(X_test)\n",
    "print(\"\\nEvaluasi Model: Random Forest\")\n",
    "print(\"Accuracy:\", accuracy_score(y_test, rf_y_pred))\n",
    "print(\"Classification Report:\\n\", classification_report(y_test, rf_y_pred, target_names=encoder.classes_))\n",
    "print(\"Confusion Matrix:\\n\", confusion_matrix(y_test, rf_y_pred))\n",
    "\n",
    "# Evaluasi model K-Nearest Neighbors pada test set\n",
    "knn_y_pred = knn_model.predict(X_test)\n",
    "print(\"\\nEvaluasi Model: K-Nearest Neighbors\")\n",
    "print(\"Accuracy:\", accuracy_score(y_test, knn_y_pred))\n",
    "print(\"Classification Report:\\n\", classification_report(y_test, knn_y_pred, target_names=encoder.classes_))\n",
    "print(\"Confusion Matrix:\\n\", confusion_matrix(y_test, knn_y_pred))\n",
    "\n",
    "# Evaluasi prediksi pada data baru (midi_file)\n",
    "predicted_composer = predict_composer(midi_file, rf_model, encoder, scaler)\n",
    "print(f\"Komposer yang diprediksi untuk {midi_file} adalah: {predicted_composer}\")"
   ]
  }
 ],
 "metadata": {
  "kernelspec": {
   "display_name": "Python 3",
   "language": "python",
   "name": "python3"
  },
  "language_info": {
   "codemirror_mode": {
    "name": "ipython",
    "version": 3
   },
   "file_extension": ".py",
   "mimetype": "text/x-python",
   "name": "python",
   "nbconvert_exporter": "python",
   "pygments_lexer": "ipython3",
   "version": "3.12.2"
  }
 },
 "nbformat": 4,
 "nbformat_minor": 2
}
